{
 "cells": [
  {
   "cell_type": "markdown",
   "metadata": {},
   "source": [
    "# Import the required libraries"
   ]
  },
  {
   "cell_type": "code",
   "execution_count": 21,
   "metadata": {},
   "outputs": [],
   "source": [
    "import numpy as np\n",
    "import pandas as pd\n",
    "import matplotlib.pyplot as plt\n",
    "import seaborn as sn\n",
    "from sklearn.model_selection import train_test_split, cross_validate\n",
    "from sklearn.preprocessing import StandardScaler,MinMaxScaler\n",
    "from sklearn.linear_model import LinearRegression, LogisticRegression\n",
    "from sklearn.metrics import f1_score,confusion_matrix\n",
    "from sklearn.ensemble import RandomForestClassifier,GradientBoostingClassifier\n",
    "from sklearn.neural_network import MLPClassifier\n",
    "from sklearn.naive_bayes import GaussianNB\n",
    "import xgboost\n",
    "from catboost import CatBoostClassifier\n",
    "#import h2o\n",
    "#from h2o.estimators.gbm import H2OGradientBoostingEstimator\n",
    "%matplotlib inline "
   ]
  },
  {
   "cell_type": "markdown",
   "metadata": {},
   "source": [
    "# Read the datasets"
   ]
  },
  {
   "cell_type": "code",
   "execution_count": 22,
   "metadata": {},
   "outputs": [
    {
     "data": {
      "text/html": [
       "<div>\n",
       "<style scoped>\n",
       "    .dataframe tbody tr th:only-of-type {\n",
       "        vertical-align: middle;\n",
       "    }\n",
       "\n",
       "    .dataframe tbody tr th {\n",
       "        vertical-align: top;\n",
       "    }\n",
       "\n",
       "    .dataframe thead th {\n",
       "        text-align: right;\n",
       "    }\n",
       "</style>\n",
       "<table border=\"1\" class=\"dataframe\">\n",
       "  <thead>\n",
       "    <tr style=\"text-align: right;\">\n",
       "      <th></th>\n",
       "      <th>tripid</th>\n",
       "      <th>additional_fare</th>\n",
       "      <th>duration</th>\n",
       "      <th>meter_waiting</th>\n",
       "      <th>meter_waiting_fare</th>\n",
       "      <th>meter_waiting_till_pickup</th>\n",
       "      <th>pickup_time</th>\n",
       "      <th>drop_time</th>\n",
       "      <th>pick_lat</th>\n",
       "      <th>pick_lon</th>\n",
       "      <th>drop_lat</th>\n",
       "      <th>drop_lon</th>\n",
       "      <th>fare</th>\n",
       "      <th>label</th>\n",
       "    </tr>\n",
       "  </thead>\n",
       "  <tbody>\n",
       "    <tr>\n",
       "      <th>0</th>\n",
       "      <td>189123628</td>\n",
       "      <td>10.5</td>\n",
       "      <td>834.0</td>\n",
       "      <td>56.0</td>\n",
       "      <td>0.0000</td>\n",
       "      <td>64.0</td>\n",
       "      <td>11/1/2019 0:20</td>\n",
       "      <td>11/1/2019 0:34</td>\n",
       "      <td>6.86252</td>\n",
       "      <td>79.8993</td>\n",
       "      <td>6.90330</td>\n",
       "      <td>79.8783</td>\n",
       "      <td>270.32</td>\n",
       "      <td>correct</td>\n",
       "    </tr>\n",
       "    <tr>\n",
       "      <th>1</th>\n",
       "      <td>189125358</td>\n",
       "      <td>10.5</td>\n",
       "      <td>791.0</td>\n",
       "      <td>47.0</td>\n",
       "      <td>0.0000</td>\n",
       "      <td>134.0</td>\n",
       "      <td>11/1/2019 0:56</td>\n",
       "      <td>11/1/2019 1:09</td>\n",
       "      <td>6.88589</td>\n",
       "      <td>79.8984</td>\n",
       "      <td>6.91373</td>\n",
       "      <td>79.8923</td>\n",
       "      <td>197.85</td>\n",
       "      <td>correct</td>\n",
       "    </tr>\n",
       "    <tr>\n",
       "      <th>2</th>\n",
       "      <td>189125719</td>\n",
       "      <td>10.5</td>\n",
       "      <td>1087.0</td>\n",
       "      <td>80.0</td>\n",
       "      <td>0.0000</td>\n",
       "      <td>61.0</td>\n",
       "      <td>11/1/2019 1:08</td>\n",
       "      <td>11/1/2019 1:26</td>\n",
       "      <td>6.90839</td>\n",
       "      <td>79.8651</td>\n",
       "      <td>6.93669</td>\n",
       "      <td>79.9146</td>\n",
       "      <td>301.64</td>\n",
       "      <td>correct</td>\n",
       "    </tr>\n",
       "    <tr>\n",
       "      <th>3</th>\n",
       "      <td>189127273</td>\n",
       "      <td>10.5</td>\n",
       "      <td>598.0</td>\n",
       "      <td>271.0</td>\n",
       "      <td>15.6638</td>\n",
       "      <td>68.0</td>\n",
       "      <td>11/1/2019 2:27</td>\n",
       "      <td>11/1/2019 2:37</td>\n",
       "      <td>6.92570</td>\n",
       "      <td>79.8895</td>\n",
       "      <td>6.92748</td>\n",
       "      <td>79.8971</td>\n",
       "      <td>82.30</td>\n",
       "      <td>correct</td>\n",
       "    </tr>\n",
       "    <tr>\n",
       "      <th>4</th>\n",
       "      <td>189128020</td>\n",
       "      <td>NaN</td>\n",
       "      <td>NaN</td>\n",
       "      <td>NaN</td>\n",
       "      <td>NaN</td>\n",
       "      <td>NaN</td>\n",
       "      <td>11/1/2019 3:34</td>\n",
       "      <td>11/1/2019 3:51</td>\n",
       "      <td>6.87441</td>\n",
       "      <td>79.8615</td>\n",
       "      <td>6.84478</td>\n",
       "      <td>79.9290</td>\n",
       "      <td>358.39</td>\n",
       "      <td>correct</td>\n",
       "    </tr>\n",
       "  </tbody>\n",
       "</table>\n",
       "</div>"
      ],
      "text/plain": [
       "      tripid  additional_fare  duration  meter_waiting  meter_waiting_fare  \\\n",
       "0  189123628             10.5     834.0           56.0              0.0000   \n",
       "1  189125358             10.5     791.0           47.0              0.0000   \n",
       "2  189125719             10.5    1087.0           80.0              0.0000   \n",
       "3  189127273             10.5     598.0          271.0             15.6638   \n",
       "4  189128020              NaN       NaN            NaN                 NaN   \n",
       "\n",
       "   meter_waiting_till_pickup     pickup_time       drop_time  pick_lat  \\\n",
       "0                       64.0  11/1/2019 0:20  11/1/2019 0:34   6.86252   \n",
       "1                      134.0  11/1/2019 0:56  11/1/2019 1:09   6.88589   \n",
       "2                       61.0  11/1/2019 1:08  11/1/2019 1:26   6.90839   \n",
       "3                       68.0  11/1/2019 2:27  11/1/2019 2:37   6.92570   \n",
       "4                        NaN  11/1/2019 3:34  11/1/2019 3:51   6.87441   \n",
       "\n",
       "   pick_lon  drop_lat  drop_lon    fare    label  \n",
       "0   79.8993   6.90330   79.8783  270.32  correct  \n",
       "1   79.8984   6.91373   79.8923  197.85  correct  \n",
       "2   79.8651   6.93669   79.9146  301.64  correct  \n",
       "3   79.8895   6.92748   79.8971   82.30  correct  \n",
       "4   79.8615   6.84478   79.9290  358.39  correct  "
      ]
     },
     "execution_count": 22,
     "metadata": {},
     "output_type": "execute_result"
    }
   ],
   "source": [
    "data = pd.read_csv(\"../train.csv\")\n",
    "\n",
    "data.head()"
   ]
  },
  {
   "cell_type": "code",
   "execution_count": 23,
   "metadata": {},
   "outputs": [
    {
     "data": {
      "text/html": [
       "<div>\n",
       "<style scoped>\n",
       "    .dataframe tbody tr th:only-of-type {\n",
       "        vertical-align: middle;\n",
       "    }\n",
       "\n",
       "    .dataframe tbody tr th {\n",
       "        vertical-align: top;\n",
       "    }\n",
       "\n",
       "    .dataframe thead th {\n",
       "        text-align: right;\n",
       "    }\n",
       "</style>\n",
       "<table border=\"1\" class=\"dataframe\">\n",
       "  <thead>\n",
       "    <tr style=\"text-align: right;\">\n",
       "      <th></th>\n",
       "      <th>tripid</th>\n",
       "      <th>additional_fare</th>\n",
       "      <th>duration</th>\n",
       "      <th>meter_waiting</th>\n",
       "      <th>meter_waiting_fare</th>\n",
       "      <th>meter_waiting_till_pickup</th>\n",
       "      <th>pickup_time</th>\n",
       "      <th>drop_time</th>\n",
       "      <th>pick_lat</th>\n",
       "      <th>pick_lon</th>\n",
       "      <th>drop_lat</th>\n",
       "      <th>drop_lon</th>\n",
       "      <th>fare</th>\n",
       "    </tr>\n",
       "  </thead>\n",
       "  <tbody>\n",
       "    <tr>\n",
       "      <th>0</th>\n",
       "      <td>213284604</td>\n",
       "      <td>10.5</td>\n",
       "      <td>924</td>\n",
       "      <td>42</td>\n",
       "      <td>2.4486</td>\n",
       "      <td>148</td>\n",
       "      <td>2/1/2020 0:38</td>\n",
       "      <td>2/1/2020 0:53</td>\n",
       "      <td>6.83454</td>\n",
       "      <td>79.8750</td>\n",
       "      <td>6.77490</td>\n",
       "      <td>79.8840</td>\n",
       "      <td>289.27</td>\n",
       "    </tr>\n",
       "    <tr>\n",
       "      <th>1</th>\n",
       "      <td>213286352</td>\n",
       "      <td>10.5</td>\n",
       "      <td>4249</td>\n",
       "      <td>20</td>\n",
       "      <td>0.0000</td>\n",
       "      <td>91</td>\n",
       "      <td>2/1/2020 1:02</td>\n",
       "      <td>2/1/2020 2:13</td>\n",
       "      <td>6.91168</td>\n",
       "      <td>79.8723</td>\n",
       "      <td>6.55091</td>\n",
       "      <td>79.9706</td>\n",
       "      <td>1912.70</td>\n",
       "    </tr>\n",
       "    <tr>\n",
       "      <th>2</th>\n",
       "      <td>213293973</td>\n",
       "      <td>10.5</td>\n",
       "      <td>1552</td>\n",
       "      <td>255</td>\n",
       "      <td>2.6588</td>\n",
       "      <td>23</td>\n",
       "      <td>2/1/2020 5:02</td>\n",
       "      <td>2/1/2020 5:28</td>\n",
       "      <td>6.92145</td>\n",
       "      <td>79.8478</td>\n",
       "      <td>6.90539</td>\n",
       "      <td>79.8989</td>\n",
       "      <td>394.00</td>\n",
       "    </tr>\n",
       "    <tr>\n",
       "      <th>3</th>\n",
       "      <td>213294622</td>\n",
       "      <td>10.5</td>\n",
       "      <td>462</td>\n",
       "      <td>16</td>\n",
       "      <td>0.0000</td>\n",
       "      <td>198</td>\n",
       "      <td>2/1/2020 5:30</td>\n",
       "      <td>2/1/2020 5:38</td>\n",
       "      <td>6.77433</td>\n",
       "      <td>79.9416</td>\n",
       "      <td>6.80401</td>\n",
       "      <td>79.9407</td>\n",
       "      <td>154.32</td>\n",
       "    </tr>\n",
       "    <tr>\n",
       "      <th>4</th>\n",
       "      <td>213298687</td>\n",
       "      <td>10.5</td>\n",
       "      <td>814</td>\n",
       "      <td>392</td>\n",
       "      <td>12.3692</td>\n",
       "      <td>69</td>\n",
       "      <td>2/1/2020 7:00</td>\n",
       "      <td>2/1/2020 7:14</td>\n",
       "      <td>6.97968</td>\n",
       "      <td>79.9130</td>\n",
       "      <td>6.98875</td>\n",
       "      <td>79.8914</td>\n",
       "      <td>147.47</td>\n",
       "    </tr>\n",
       "  </tbody>\n",
       "</table>\n",
       "</div>"
      ],
      "text/plain": [
       "      tripid  additional_fare  duration  meter_waiting  meter_waiting_fare  \\\n",
       "0  213284604             10.5       924             42              2.4486   \n",
       "1  213286352             10.5      4249             20              0.0000   \n",
       "2  213293973             10.5      1552            255              2.6588   \n",
       "3  213294622             10.5       462             16              0.0000   \n",
       "4  213298687             10.5       814            392             12.3692   \n",
       "\n",
       "   meter_waiting_till_pickup    pickup_time      drop_time  pick_lat  \\\n",
       "0                        148  2/1/2020 0:38  2/1/2020 0:53   6.83454   \n",
       "1                         91  2/1/2020 1:02  2/1/2020 2:13   6.91168   \n",
       "2                         23  2/1/2020 5:02  2/1/2020 5:28   6.92145   \n",
       "3                        198  2/1/2020 5:30  2/1/2020 5:38   6.77433   \n",
       "4                         69  2/1/2020 7:00  2/1/2020 7:14   6.97968   \n",
       "\n",
       "   pick_lon  drop_lat  drop_lon     fare  \n",
       "0   79.8750   6.77490   79.8840   289.27  \n",
       "1   79.8723   6.55091   79.9706  1912.70  \n",
       "2   79.8478   6.90539   79.8989   394.00  \n",
       "3   79.9416   6.80401   79.9407   154.32  \n",
       "4   79.9130   6.98875   79.8914   147.47  "
      ]
     },
     "execution_count": 23,
     "metadata": {},
     "output_type": "execute_result"
    }
   ],
   "source": [
    "test = pd.read_csv(\"../test.csv\")\n",
    "\n",
    "test.head()"
   ]
  },
  {
   "cell_type": "markdown",
   "metadata": {},
   "source": [
    "# count of each class"
   ]
  },
  {
   "cell_type": "code",
   "execution_count": 24,
   "metadata": {},
   "outputs": [
    {
     "data": {
      "text/plain": [
       "correct      15495\n",
       "incorrect     1681\n",
       "Name: label, dtype: int64"
      ]
     },
     "execution_count": 24,
     "metadata": {},
     "output_type": "execute_result"
    }
   ],
   "source": [
    "data[\"label\"].value_counts()"
   ]
  },
  {
   "cell_type": "markdown",
   "metadata": {},
   "source": [
    "# Data Cleaning"
   ]
  },
  {
   "cell_type": "markdown",
   "metadata": {},
   "source": [
    "# Check for duplicated rows, then remove"
   ]
  },
  {
   "cell_type": "markdown",
   "metadata": {},
   "source": [
    "print (sum(data.duplicated()))"
   ]
  },
  {
   "cell_type": "markdown",
   "metadata": {},
   "source": [
    "data[data.duplicated()]"
   ]
  },
  {
   "cell_type": "markdown",
   "metadata": {},
   "source": [
    "print(data.shape)\n",
    "\n",
    "data.drop_duplicates(inplace=True)\n",
    "\n",
    "print (data.shape)"
   ]
  },
  {
   "cell_type": "markdown",
   "metadata": {},
   "source": [
    "Check the data type of each column and do necessary changes"
   ]
  },
  {
   "cell_type": "code",
   "execution_count": 25,
   "metadata": {},
   "outputs": [
    {
     "data": {
      "text/plain": [
       "tripid                         int64\n",
       "additional_fare              float64\n",
       "duration                     float64\n",
       "meter_waiting                float64\n",
       "meter_waiting_fare           float64\n",
       "meter_waiting_till_pickup    float64\n",
       "pickup_time                   object\n",
       "drop_time                     object\n",
       "pick_lat                     float64\n",
       "pick_lon                     float64\n",
       "drop_lat                     float64\n",
       "drop_lon                     float64\n",
       "fare                         float64\n",
       "label                         object\n",
       "dtype: object"
      ]
     },
     "execution_count": 25,
     "metadata": {},
     "output_type": "execute_result"
    }
   ],
   "source": [
    "data.dtypes"
   ]
  },
  {
   "cell_type": "code",
   "execution_count": 26,
   "metadata": {},
   "outputs": [],
   "source": [
    "data[\"pickup_time\"] = pd.to_datetime(data[\"pickup_time\"])\n",
    "data[\"drop_time\"] = pd.to_datetime(data[\"drop_time\"])\n",
    "data[\"label\"] = data[\"label\"].apply(lambda x: 1 if x==\"correct\" else 0)\n",
    "\n",
    "test[\"pickup_time\"] = pd.to_datetime(test[\"pickup_time\"])\n",
    "test[\"drop_time\"] = pd.to_datetime(test[\"drop_time\"])"
   ]
  },
  {
   "cell_type": "markdown",
   "metadata": {},
   "source": [
    "# Null Value handling"
   ]
  },
  {
   "cell_type": "code",
   "execution_count": 27,
   "metadata": {},
   "outputs": [
    {
     "data": {
      "text/html": [
       "<div>\n",
       "<style scoped>\n",
       "    .dataframe tbody tr th:only-of-type {\n",
       "        vertical-align: middle;\n",
       "    }\n",
       "\n",
       "    .dataframe tbody tr th {\n",
       "        vertical-align: top;\n",
       "    }\n",
       "\n",
       "    .dataframe thead th {\n",
       "        text-align: right;\n",
       "    }\n",
       "</style>\n",
       "<table border=\"1\" class=\"dataframe\">\n",
       "  <thead>\n",
       "    <tr style=\"text-align: right;\">\n",
       "      <th></th>\n",
       "      <th>tripid</th>\n",
       "      <th>additional_fare</th>\n",
       "      <th>duration</th>\n",
       "      <th>meter_waiting</th>\n",
       "      <th>meter_waiting_fare</th>\n",
       "      <th>meter_waiting_till_pickup</th>\n",
       "      <th>pickup_time</th>\n",
       "      <th>drop_time</th>\n",
       "      <th>pick_lat</th>\n",
       "      <th>pick_lon</th>\n",
       "      <th>drop_lat</th>\n",
       "      <th>drop_lon</th>\n",
       "      <th>fare</th>\n",
       "      <th>label</th>\n",
       "    </tr>\n",
       "  </thead>\n",
       "  <tbody>\n",
       "    <tr>\n",
       "      <th>count</th>\n",
       "      <td>15495</td>\n",
       "      <td>15495</td>\n",
       "      <td>15495</td>\n",
       "      <td>15495</td>\n",
       "      <td>15495</td>\n",
       "      <td>15495</td>\n",
       "      <td>15495</td>\n",
       "      <td>15495</td>\n",
       "      <td>15495</td>\n",
       "      <td>15495</td>\n",
       "      <td>15495</td>\n",
       "      <td>15495</td>\n",
       "      <td>15495</td>\n",
       "      <td>15495</td>\n",
       "    </tr>\n",
       "    <tr>\n",
       "      <th>unique</th>\n",
       "      <td>1</td>\n",
       "      <td>2</td>\n",
       "      <td>2</td>\n",
       "      <td>2</td>\n",
       "      <td>2</td>\n",
       "      <td>2</td>\n",
       "      <td>1</td>\n",
       "      <td>1</td>\n",
       "      <td>1</td>\n",
       "      <td>1</td>\n",
       "      <td>1</td>\n",
       "      <td>1</td>\n",
       "      <td>1</td>\n",
       "      <td>1</td>\n",
       "    </tr>\n",
       "    <tr>\n",
       "      <th>top</th>\n",
       "      <td>False</td>\n",
       "      <td>False</td>\n",
       "      <td>False</td>\n",
       "      <td>False</td>\n",
       "      <td>False</td>\n",
       "      <td>False</td>\n",
       "      <td>False</td>\n",
       "      <td>False</td>\n",
       "      <td>False</td>\n",
       "      <td>False</td>\n",
       "      <td>False</td>\n",
       "      <td>False</td>\n",
       "      <td>False</td>\n",
       "      <td>False</td>\n",
       "    </tr>\n",
       "    <tr>\n",
       "      <th>freq</th>\n",
       "      <td>15495</td>\n",
       "      <td>15442</td>\n",
       "      <td>15442</td>\n",
       "      <td>15442</td>\n",
       "      <td>15442</td>\n",
       "      <td>15442</td>\n",
       "      <td>15495</td>\n",
       "      <td>15495</td>\n",
       "      <td>15495</td>\n",
       "      <td>15495</td>\n",
       "      <td>15495</td>\n",
       "      <td>15495</td>\n",
       "      <td>15495</td>\n",
       "      <td>15495</td>\n",
       "    </tr>\n",
       "  </tbody>\n",
       "</table>\n",
       "</div>"
      ],
      "text/plain": [
       "       tripid additional_fare duration meter_waiting meter_waiting_fare  \\\n",
       "count   15495           15495    15495         15495              15495   \n",
       "unique      1               2        2             2                  2   \n",
       "top     False           False    False         False              False   \n",
       "freq    15495           15442    15442         15442              15442   \n",
       "\n",
       "       meter_waiting_till_pickup pickup_time drop_time pick_lat pick_lon  \\\n",
       "count                      15495       15495     15495    15495    15495   \n",
       "unique                         2           1         1        1        1   \n",
       "top                        False       False     False    False    False   \n",
       "freq                       15442       15495     15495    15495    15495   \n",
       "\n",
       "       drop_lat drop_lon   fare  label  \n",
       "count     15495    15495  15495  15495  \n",
       "unique        1        1      1      1  \n",
       "top       False    False  False  False  \n",
       "freq      15495    15495  15495  15495  "
      ]
     },
     "execution_count": 27,
     "metadata": {},
     "output_type": "execute_result"
    }
   ],
   "source": [
    "data[data[\"label\"]==1].isna().describe()"
   ]
  },
  {
   "cell_type": "code",
   "execution_count": 28,
   "metadata": {},
   "outputs": [
    {
     "data": {
      "text/html": [
       "<div>\n",
       "<style scoped>\n",
       "    .dataframe tbody tr th:only-of-type {\n",
       "        vertical-align: middle;\n",
       "    }\n",
       "\n",
       "    .dataframe tbody tr th {\n",
       "        vertical-align: top;\n",
       "    }\n",
       "\n",
       "    .dataframe thead th {\n",
       "        text-align: right;\n",
       "    }\n",
       "</style>\n",
       "<table border=\"1\" class=\"dataframe\">\n",
       "  <thead>\n",
       "    <tr style=\"text-align: right;\">\n",
       "      <th></th>\n",
       "      <th>tripid</th>\n",
       "      <th>additional_fare</th>\n",
       "      <th>duration</th>\n",
       "      <th>meter_waiting</th>\n",
       "      <th>meter_waiting_fare</th>\n",
       "      <th>meter_waiting_till_pickup</th>\n",
       "      <th>pickup_time</th>\n",
       "      <th>drop_time</th>\n",
       "      <th>pick_lat</th>\n",
       "      <th>pick_lon</th>\n",
       "      <th>drop_lat</th>\n",
       "      <th>drop_lon</th>\n",
       "      <th>fare</th>\n",
       "      <th>label</th>\n",
       "    </tr>\n",
       "  </thead>\n",
       "  <tbody>\n",
       "    <tr>\n",
       "      <th>count</th>\n",
       "      <td>1681</td>\n",
       "      <td>1681</td>\n",
       "      <td>1681</td>\n",
       "      <td>1681</td>\n",
       "      <td>1681</td>\n",
       "      <td>1681</td>\n",
       "      <td>1681</td>\n",
       "      <td>1681</td>\n",
       "      <td>1681</td>\n",
       "      <td>1681</td>\n",
       "      <td>1681</td>\n",
       "      <td>1681</td>\n",
       "      <td>1681</td>\n",
       "      <td>1681</td>\n",
       "    </tr>\n",
       "    <tr>\n",
       "      <th>unique</th>\n",
       "      <td>1</td>\n",
       "      <td>2</td>\n",
       "      <td>2</td>\n",
       "      <td>2</td>\n",
       "      <td>2</td>\n",
       "      <td>2</td>\n",
       "      <td>1</td>\n",
       "      <td>1</td>\n",
       "      <td>1</td>\n",
       "      <td>1</td>\n",
       "      <td>1</td>\n",
       "      <td>1</td>\n",
       "      <td>2</td>\n",
       "      <td>1</td>\n",
       "    </tr>\n",
       "    <tr>\n",
       "      <th>top</th>\n",
       "      <td>False</td>\n",
       "      <td>False</td>\n",
       "      <td>False</td>\n",
       "      <td>False</td>\n",
       "      <td>False</td>\n",
       "      <td>False</td>\n",
       "      <td>False</td>\n",
       "      <td>False</td>\n",
       "      <td>False</td>\n",
       "      <td>False</td>\n",
       "      <td>False</td>\n",
       "      <td>False</td>\n",
       "      <td>False</td>\n",
       "      <td>False</td>\n",
       "    </tr>\n",
       "    <tr>\n",
       "      <th>freq</th>\n",
       "      <td>1681</td>\n",
       "      <td>1532</td>\n",
       "      <td>1532</td>\n",
       "      <td>1532</td>\n",
       "      <td>1532</td>\n",
       "      <td>1532</td>\n",
       "      <td>1681</td>\n",
       "      <td>1681</td>\n",
       "      <td>1681</td>\n",
       "      <td>1681</td>\n",
       "      <td>1681</td>\n",
       "      <td>1681</td>\n",
       "      <td>1544</td>\n",
       "      <td>1681</td>\n",
       "    </tr>\n",
       "  </tbody>\n",
       "</table>\n",
       "</div>"
      ],
      "text/plain": [
       "       tripid additional_fare duration meter_waiting meter_waiting_fare  \\\n",
       "count    1681            1681     1681          1681               1681   \n",
       "unique      1               2        2             2                  2   \n",
       "top     False           False    False         False              False   \n",
       "freq     1681            1532     1532          1532               1532   \n",
       "\n",
       "       meter_waiting_till_pickup pickup_time drop_time pick_lat pick_lon  \\\n",
       "count                       1681        1681      1681     1681     1681   \n",
       "unique                         2           1         1        1        1   \n",
       "top                        False       False     False    False    False   \n",
       "freq                        1532        1681      1681     1681     1681   \n",
       "\n",
       "       drop_lat drop_lon   fare  label  \n",
       "count      1681     1681   1681   1681  \n",
       "unique        1        1      2      1  \n",
       "top       False    False  False  False  \n",
       "freq       1681     1681   1544   1681  "
      ]
     },
     "execution_count": 28,
     "metadata": {},
     "output_type": "execute_result"
    }
   ],
   "source": [
    "data[data[\"label\"]==0].isna().describe()"
   ]
  },
  {
   "cell_type": "code",
   "execution_count": 29,
   "metadata": {},
   "outputs": [
    {
     "data": {
      "text/html": [
       "<div>\n",
       "<style scoped>\n",
       "    .dataframe tbody tr th:only-of-type {\n",
       "        vertical-align: middle;\n",
       "    }\n",
       "\n",
       "    .dataframe tbody tr th {\n",
       "        vertical-align: top;\n",
       "    }\n",
       "\n",
       "    .dataframe thead th {\n",
       "        text-align: right;\n",
       "    }\n",
       "</style>\n",
       "<table border=\"1\" class=\"dataframe\">\n",
       "  <thead>\n",
       "    <tr style=\"text-align: right;\">\n",
       "      <th></th>\n",
       "      <th>tripid</th>\n",
       "      <th>additional_fare</th>\n",
       "      <th>duration</th>\n",
       "      <th>meter_waiting</th>\n",
       "      <th>meter_waiting_fare</th>\n",
       "      <th>meter_waiting_till_pickup</th>\n",
       "      <th>pickup_time</th>\n",
       "      <th>drop_time</th>\n",
       "      <th>pick_lat</th>\n",
       "      <th>pick_lon</th>\n",
       "      <th>drop_lat</th>\n",
       "      <th>drop_lon</th>\n",
       "      <th>fare</th>\n",
       "    </tr>\n",
       "  </thead>\n",
       "  <tbody>\n",
       "    <tr>\n",
       "      <th>count</th>\n",
       "      <td>8576</td>\n",
       "      <td>8576</td>\n",
       "      <td>8576</td>\n",
       "      <td>8576</td>\n",
       "      <td>8576</td>\n",
       "      <td>8576</td>\n",
       "      <td>8576</td>\n",
       "      <td>8576</td>\n",
       "      <td>8576</td>\n",
       "      <td>8576</td>\n",
       "      <td>8576</td>\n",
       "      <td>8576</td>\n",
       "      <td>8576</td>\n",
       "    </tr>\n",
       "    <tr>\n",
       "      <th>unique</th>\n",
       "      <td>1</td>\n",
       "      <td>1</td>\n",
       "      <td>1</td>\n",
       "      <td>1</td>\n",
       "      <td>1</td>\n",
       "      <td>1</td>\n",
       "      <td>1</td>\n",
       "      <td>1</td>\n",
       "      <td>1</td>\n",
       "      <td>1</td>\n",
       "      <td>1</td>\n",
       "      <td>1</td>\n",
       "      <td>1</td>\n",
       "    </tr>\n",
       "    <tr>\n",
       "      <th>top</th>\n",
       "      <td>False</td>\n",
       "      <td>False</td>\n",
       "      <td>False</td>\n",
       "      <td>False</td>\n",
       "      <td>False</td>\n",
       "      <td>False</td>\n",
       "      <td>False</td>\n",
       "      <td>False</td>\n",
       "      <td>False</td>\n",
       "      <td>False</td>\n",
       "      <td>False</td>\n",
       "      <td>False</td>\n",
       "      <td>False</td>\n",
       "    </tr>\n",
       "    <tr>\n",
       "      <th>freq</th>\n",
       "      <td>8576</td>\n",
       "      <td>8576</td>\n",
       "      <td>8576</td>\n",
       "      <td>8576</td>\n",
       "      <td>8576</td>\n",
       "      <td>8576</td>\n",
       "      <td>8576</td>\n",
       "      <td>8576</td>\n",
       "      <td>8576</td>\n",
       "      <td>8576</td>\n",
       "      <td>8576</td>\n",
       "      <td>8576</td>\n",
       "      <td>8576</td>\n",
       "    </tr>\n",
       "  </tbody>\n",
       "</table>\n",
       "</div>"
      ],
      "text/plain": [
       "       tripid additional_fare duration meter_waiting meter_waiting_fare  \\\n",
       "count    8576            8576     8576          8576               8576   \n",
       "unique      1               1        1             1                  1   \n",
       "top     False           False    False         False              False   \n",
       "freq     8576            8576     8576          8576               8576   \n",
       "\n",
       "       meter_waiting_till_pickup pickup_time drop_time pick_lat pick_lon  \\\n",
       "count                       8576        8576      8576     8576     8576   \n",
       "unique                         1           1         1        1        1   \n",
       "top                        False       False     False    False    False   \n",
       "freq                        8576        8576      8576     8576     8576   \n",
       "\n",
       "       drop_lat drop_lon   fare  \n",
       "count      8576     8576   8576  \n",
       "unique        1        1      1  \n",
       "top       False    False  False  \n",
       "freq       8576     8576   8576  "
      ]
     },
     "execution_count": 29,
     "metadata": {},
     "output_type": "execute_result"
    }
   ],
   "source": [
    "test.isna().describe()"
   ]
  },
  {
   "cell_type": "markdown",
   "metadata": {},
   "source": [
    "Fill the Cells with NaN with the mean value of that column"
   ]
  },
  {
   "cell_type": "code",
   "execution_count": 30,
   "metadata": {},
   "outputs": [],
   "source": [
    "data[\"additional_fare\"].fillna(data[\"additional_fare\"].mean() , inplace=True)\n",
    "data[\"duration\"].fillna(data[\"duration\"].mean() , inplace=True)\n",
    "data[\"meter_waiting\"].fillna(data[\"meter_waiting\"].mean() , inplace=True)\n",
    "data[\"meter_waiting_fare\"].fillna(data[\"meter_waiting_fare\"].mean() , inplace=True)\n",
    "data[\"meter_waiting_till_pickup\"].fillna(data[\"meter_waiting_till_pickup\"].mean() , inplace=True)\n",
    "data[\"fare\"].fillna(data[\"fare\"].mean() , inplace=True)"
   ]
  },
  {
   "cell_type": "markdown",
   "metadata": {},
   "source": [
    "# EDA"
   ]
  },
  {
   "cell_type": "markdown",
   "metadata": {},
   "source": [
    "Let's Explore the distribution of each featue"
   ]
  },
  {
   "cell_type": "code",
   "execution_count": null,
   "metadata": {},
   "outputs": [],
   "source": [
    "data.iloc[:,1:].hist(figsize=(20,20) , bins=100)"
   ]
  },
  {
   "cell_type": "code",
   "execution_count": null,
   "metadata": {},
   "outputs": [],
   "source": [
    "test.iloc[:,1:].hist(figsize=(20,20) , bins=100)"
   ]
  },
  {
   "cell_type": "code",
   "execution_count": null,
   "metadata": {},
   "outputs": [],
   "source": [
    "data.corr()"
   ]
  },
  {
   "cell_type": "markdown",
   "metadata": {},
   "source": [
    "# Remove outliers"
   ]
  },
  {
   "cell_type": "markdown",
   "metadata": {},
   "source": [
    "Let's Plot boxplot to see there any outliers"
   ]
  },
  {
   "cell_type": "markdown",
   "metadata": {
    "scrolled": true
   },
   "source": [
    "column_names = list(data.columns)\n",
    "column_names.remove(\"pickup_time\")\n",
    "column_names.remove(\"drop_time\")\n",
    "column_names.remove(\"tripid\")\n",
    "column_names.remove(\"label\")\n",
    "for i in column_names:\n",
    "    sn.boxplot(data[i])\n",
    "    plt.show()"
   ]
  },
  {
   "cell_type": "markdown",
   "metadata": {},
   "source": [
    "Q1 = data.drop([\"pickup_time\",\"drop_time\",\"tripid\",\"label\"] , axis=1).quantile(0.05)\n",
    "Q3 = data.drop([\"pickup_time\",\"drop_time\",\"tripid\",\"label\"] , axis=1).quantile(0.95)\n",
    "IQR = Q3 - Q1\n",
    "print(IQR)"
   ]
  },
  {
   "cell_type": "markdown",
   "metadata": {},
   "source": [
    "print((data.drop([\"pickup_time\",\"drop_time\",\"tripid\",\"label\"] , axis=1) < (Q1 - 1.5 * IQR)) |(data.drop([\"pickup_time\",\"drop_time\",\"tripid\",\"label\"] , axis=1) > (Q3 + 1.5 * IQR)))"
   ]
  },
  {
   "cell_type": "markdown",
   "metadata": {},
   "source": [
    "data = data[~((data.drop([\"pickup_time\",\"drop_time\",\"tripid\",\"label\"] , axis=1) < (Q1 - 1.5 * IQR)) |(data.drop([\"pickup_time\",\"drop_time\",\"tripid\",\"label\"] , axis=1) > (Q3 + 1.5 * IQR))).any(axis=1)]"
   ]
  },
  {
   "cell_type": "markdown",
   "metadata": {},
   "source": [
    "data.shape"
   ]
  },
  {
   "cell_type": "markdown",
   "metadata": {},
   "source": [
    "# Feature Engineering"
   ]
  },
  {
   "cell_type": "markdown",
   "metadata": {},
   "source": [
    "Create new features from the existing features\n",
    "    pickup_time_minuts - number of minutes past from 12 AM \n",
    "    Distance - Euclidean distance using longitude and latitude"
   ]
  },
  {
   "cell_type": "code",
   "execution_count": 31,
   "metadata": {},
   "outputs": [],
   "source": [
    "data[\"pickup_time_minuts\"] = data[\"pickup_time\"].apply(lambda x: int(x.strftime(\"%M\"))+int(x.strftime(\"%H\"))*60)\n",
    "data[\"distance\"] = ((data[\"pick_lat\"]-data[\"drop_lat\"])**2 + (data[\"pick_lon\"] - data[\"drop_lon\"])**2 )**0.5\n",
    "\n",
    "#data[\"drop_time_minuts\"] = data[\"drop_time\"].apply(lambda x: int(x.strftime(\"%M\"))+int(x.strftime(\"%H\"))*60)\n",
    "#data[\"pickup_day\"] = data[\"pickup_time\"].apply(lambda x: int(x.strftime(\"%w\")))\n",
    "#data[\"drop_day\"] = data[\"drop_time\"].apply(lambda x: int(x.strftime(\"%w\")))\n",
    "#data[\"pickup_month\"] = data[\"pickup_time\"].apply(lambda x: int(x.strftime(\"%m\")))\n",
    "#data[\"drop_month\"] = data[\"drop_time\"].apply(lambda x: int(x.strftime(\"%m\")))\n",
    "\n",
    "\n",
    "\n",
    "test[\"pickup_time_minuts\"] = test[\"pickup_time\"].apply(lambda x: int(x.strftime(\"%M\"))+int(x.strftime(\"%H\"))*60)\n",
    "test[\"distance\"] = ((test[\"pick_lat\"]-test[\"drop_lat\"])**2 + (test[\"pick_lon\"] - test[\"drop_lon\"])**2 )**0.5\n",
    "\n",
    "#test[\"drop_time_minuts\"] = test[\"drop_time\"].apply(lambda x: int(x.strftime(\"%M\"))+int(x.strftime(\"%H\"))*60)\n",
    "#test[\"pickup_day\"] = test[\"pickup_time\"].apply(lambda x: int(x.strftime(\"%w\")))\n",
    "#test[\"drop_day\"] = test[\"drop_time\"].apply(lambda x: int(x.strftime(\"%w\")))\n",
    "#test[\"pickup_month\"] = test[\"pickup_time\"].apply(lambda x: int(x.strftime(\"%m\")))\n",
    "#test[\"drop_month\"] = test[\"drop_time\"].apply(lambda x: int(x.strftime(\"%m\")))\n"
   ]
  },
  {
   "cell_type": "markdown",
   "metadata": {},
   "source": [
    "    date_diff - difference of drop and pickup time in seconds"
   ]
  },
  {
   "cell_type": "code",
   "execution_count": 32,
   "metadata": {},
   "outputs": [],
   "source": [
    "data[\"date_diff\"] = data['drop_time'] - data['pickup_time']\n",
    "data['date_diff']=data['date_diff']/np.timedelta64(1,'s')\n",
    "\n",
    "test[\"date_diff\"] = test['drop_time'] - test['pickup_time']\n",
    "test['date_diff']=test['date_diff']/np.timedelta64(1,'s')"
   ]
  },
  {
   "cell_type": "code",
   "execution_count": 33,
   "metadata": {},
   "outputs": [],
   "source": [
    "data[\"tot_time\"] = data[\"meter_waiting_till_pickup\"] + data[\"meter_waiting\"]\n",
    "test[\"tot_time\"] = test[\"meter_waiting_till_pickup\"] + test[\"meter_waiting\"]\n",
    "data[\"tot_fare\"] = data[\"additional_fare\"] + data[\"meter_waiting_fare\"] + data[\"fare\"]\n",
    "test[\"tot_fare\"] = test[\"additional_fare\"] + test[\"meter_waiting_fare\"] + test[\"fare\"]\n"
   ]
  },
  {
   "cell_type": "code",
   "execution_count": 34,
   "metadata": {},
   "outputs": [],
   "source": [
    "data.drop([\"tripid\" , \"pickup_time\" , \"drop_time\" ], axis=1, inplace=True)\n",
    "\n",
    "test.drop([\"tripid\" , \"pickup_time\" , \"drop_time\" ], axis=1, inplace=True)"
   ]
  },
  {
   "cell_type": "markdown",
   "metadata": {},
   "source": [
    "# Get the featue importance"
   ]
  },
  {
   "cell_type": "code",
   "execution_count": 35,
   "metadata": {},
   "outputs": [
    {
     "name": "stdout",
     "output_type": "stream",
     "text": [
      "Feature ranking:\n",
      "1. duration 1 (0.145928)\n",
      "2. distance 12 (0.129830)\n",
      "3. fare 9 (0.109074)\n",
      "4. pickup_time_minuts 11 (0.108730)\n",
      "5. tot_time 14 (0.101773)\n",
      "6. meter_waiting 2 (0.057546)\n",
      "7. date_diff 13 (0.057287)\n",
      "8. meter_waiting_fare 3 (0.042513)\n",
      "9. meter_waiting_till_pickup 4 (0.039254)\n",
      "10. pick_lat 5 (0.037960)\n",
      "11. drop_lon 8 (0.036403)\n",
      "12. label 10 (0.036279)\n",
      "13. drop_lat 7 (0.035593)\n",
      "14. pick_lon 6 (0.035590)\n",
      "15. additional_fare 0 (0.026240)\n"
     ]
    },
    {
     "data": {
      "image/png": "[encoded data removed]",
      "text/plain": [
       "<Figure size 432x288 with 1 Axes>"
      ]
     },
     "metadata": {
      "needs_background": "light"
     },
     "output_type": "display_data"
    }
   ],
   "source": [
    "tree_cls = RandomForestClassifier()\n",
    "\n",
    "tree_cls.fit(data.drop([\"label\"],axis=1),data[\"label\"])\n",
    "\n",
    "importances = tree_cls.feature_importances_\n",
    "std = np.std([tree.feature_importances_ for tree in tree_cls.estimators_],\n",
    "             axis=0)\n",
    "indices = np.argsort(importances)[::-1]\n",
    "\n",
    "# Print the feature ranking\n",
    "print(\"Feature ranking:\")\n",
    "\n",
    "for f in range(data.shape[1]-1):\n",
    "    print(\"%d. %s %d (%f)\" % (f + 1,data.columns[indices[f]], indices[f], importances[indices[f]]))\n",
    "\n",
    "# Plot the impurity-based feature importances of the forest\n",
    "plt.figure()\n",
    "plt.title(\"Feature importances\")\n",
    "plt.bar(range(data.shape[1]-1), importances[indices],\n",
    "        color=\"r\", yerr=std[indices], align=\"center\")\n",
    "plt.xticks(range(data.shape[1]-1), indices)\n",
    "plt.xlim([-1, data.shape[1]-1])\n",
    "plt.show()"
   ]
  },
  {
   "cell_type": "code",
   "execution_count": 36,
   "metadata": {},
   "outputs": [],
   "source": [
    "data.drop([ \"drop_lon\" , \"drop_lat\" , \"pick_lon\" , \"pick_lat\" ], axis=1, inplace=True)\n",
    "\n",
    "test.drop([ \"drop_lon\" , \"drop_lat\" , \"pick_lon\" , \"pick_lat\"], axis=1, inplace=True)\n"
   ]
  },
  {
   "cell_type": "code",
   "execution_count": 37,
   "metadata": {},
   "outputs": [],
   "source": [
    "data.drop([\"meter_waiting_till_pickup\" , \"meter_waiting\"], axis=1, inplace=True)\n",
    "\n",
    "test.drop([\"meter_waiting_till_pickup\" , \"meter_waiting\"], axis=1, inplace=True)\n",
    "\n",
    "data.drop([\"meter_waiting_fare\" , \"additional_fare\"], axis=1, inplace=True)\n",
    "\n",
    "test.drop([\"meter_waiting_fare\" , \"additional_fare\"], axis=1, inplace=True)\n"
   ]
  },
  {
   "cell_type": "code",
   "execution_count": 38,
   "metadata": {},
   "outputs": [
    {
     "data": {
      "text/plain": [
       "<matplotlib.collections.PathCollection at 0x7f379491fb70>"
      ]
     },
     "execution_count": 38,
     "metadata": {},
     "output_type": "execute_result"
    },
    {
     "data": {
      "image/png": "[encoded data removed]",
      "text/plain": [
       "<Figure size 432x288 with 1 Axes>"
      ]
     },
     "metadata": {
      "needs_background": "light"
     },
     "output_type": "display_data"
    }
   ],
   "source": [
    "plt.scatter(data[\"date_diff\"] , data[\"fare\"])"
   ]
  },
  {
   "cell_type": "markdown",
   "metadata": {},
   "source": [
    "# Splitting the dataset"
   ]
  },
  {
   "cell_type": "code",
   "execution_count": 39,
   "metadata": {},
   "outputs": [
    {
     "name": "stdout",
     "output_type": "stream",
     "text": [
      "1    12371\n",
      "0     1369\n",
      "Name: label, dtype: int64\n",
      "1    3124\n",
      "0     312\n",
      "Name: label, dtype: int64\n"
     ]
    }
   ],
   "source": [
    "X = data.drop([\"label\"],axis=1)\n",
    "scale = MinMaxScaler()\n",
    "\n",
    "X = scale.fit_transform(X)\n",
    "\n",
    "Y = data[\"label\"]\n",
    "X_train, X_test, y_train, y_test = train_test_split(X,Y, test_size=0.2, random_state=42)\n",
    "\n",
    "print (y_train.value_counts())\n",
    "print(y_test.value_counts())\n"
   ]
  },
  {
   "cell_type": "code",
   "execution_count": null,
   "metadata": {},
   "outputs": [],
   "source": []
  },
  {
   "cell_type": "markdown",
   "metadata": {},
   "source": [
    "# Training and Prediction"
   ]
  },
  {
   "cell_type": "markdown",
   "metadata": {},
   "source": [
    "# XGBoost Classifier"
   ]
  },
  {
   "cell_type": "code",
   "execution_count": 18,
   "metadata": {},
   "outputs": [
    {
     "name": "stdout",
     "output_type": "stream",
     "text": [
      "[0.97973917 0.97748797 0.97904052 0.98004968]\n",
      "Mean Accuracy(Training) :  0.9790793355069088\n",
      "[0.99793477 0.99767662 0.99767662 0.99853726]\n",
      "Mean Recall Score(Training) :  0.997956317501572\n",
      "[0.97997296 0.97781901 0.97947115 0.97973829]\n",
      "Mean Precision Score(Training) :  0.9792503512796926\n",
      "[0.98887231 0.98764801 0.98849007 0.98904845]\n",
      "Mean F1 Score(Training) :  0.9885147094876886\n",
      "[0.94410806 0.95551933 0.94946437 0.94340941]\n",
      "Mean Accuracy Score(Testing) :  0.9481252911038659\n",
      "[0.97857512 0.99199793 0.98709344 0.9883811 ]\n",
      "Mean recall Score(Testing) :  0.9865118986254469\n",
      "[0.96023303 0.96002998 0.95815585 0.95081967]\n",
      "Mean Precision Score(Testing) :  0.9573096324234924\n",
      "[0.96931731 0.97575219 0.97240941 0.96923661]\n",
      "Mean F1 Score(Testing) :  0.9716788802683295\n"
     ]
    }
   ],
   "source": [
    "xg_clf = xgboost.XGBClassifier(n_estimators = 1000)\n",
    "\n",
    "cv = cross_validate(xg_clf, X,Y,cv=4, scoring= {'f1' , 'accuracy' , 'recall' , 'precision'}, return_train_score=True)\n",
    "\n",
    "print (cv['train_accuracy'])\n",
    "print (\"Mean Accuracy(Training) : \" , cv['train_accuracy'].mean())\n",
    "\n",
    "print (cv['train_recall'])\n",
    "print (\"Mean Recall Score(Training) : \" ,cv['train_recall'].mean())\n",
    "\n",
    "print (cv['train_precision'])\n",
    "print (\"Mean Precision Score(Training) : \" ,cv['train_precision'].mean())\n",
    "\n",
    "print (cv['train_f1'])\n",
    "print (\"Mean F1 Score(Training) : \" ,cv['train_f1'].mean())\n",
    "\n",
    "print (cv['test_accuracy'])\n",
    "print (\"Mean Accuracy Score(Testing) : \" ,cv['test_accuracy'].mean())\n",
    "\n",
    "print (cv['test_recall'])\n",
    "print (\"Mean recall Score(Testing) : \" ,cv['test_recall'].mean())\n",
    "\n",
    "print (cv['test_precision'])\n",
    "print (\"Mean Precision Score(Testing) : \" , cv['test_precision'].mean())\n",
    "\n",
    "print (cv['test_f1'])\n",
    "print (\"Mean F1 Score(Testing) : \" ,cv['test_f1'].mean())"
   ]
  },
  {
   "cell_type": "code",
   "execution_count": 16,
   "metadata": {},
   "outputs": [
    {
     "name": "stdout",
     "output_type": "stream",
     "text": [
      "[[ 198  114]\n",
      " [  37 3087]]\n",
      "0.9761264822134387\n",
      "[[ 1076   293]\n",
      " [   31 12340]]\n",
      "0.9870420732682771\n"
     ]
    }
   ],
   "source": [
    "clf = xgboost.XGBClassifier(n_estimators = 1000)\n",
    "\n",
    "clf.fit(X_train,y_train)\n",
    "\n",
    "pred = clf.predict(X_test)\n",
    "\n",
    "print (confusion_matrix(y_test,pred))\n",
    "\n",
    "print (f1_score(y_test,pred))\n",
    "\n",
    "pred_1 = clf.predict(X_train)\n",
    "\n",
    "print (confusion_matrix(y_train,pred_1))\n",
    "\n",
    "print (f1_score(y_train,pred_1))"
   ]
  },
  {
   "cell_type": "markdown",
   "metadata": {},
   "source": [
    "t_pred = clf.predict(scale.transform(test))\n",
    "\n",
    "test_sub = pd.read_csv(\"../sample_submission.csv\")\n",
    "\n",
    "test_sub[\"prediction\"] = t_pred\n",
    "\n",
    "test_sub.to_csv(\"../xg_0614_null_values_filled_with_mean_three_extra.csv\" , index=False)"
   ]
  },
  {
   "cell_type": "markdown",
   "metadata": {},
   "source": [
    "# Random Forest Classifier"
   ]
  },
  {
   "cell_type": "code",
   "execution_count": 42,
   "metadata": {},
   "outputs": [
    {
     "name": "stdout",
     "output_type": "stream",
     "text": [
      "[1. 1. 1. 1.]\n",
      "Mean Accuracy(Training) :  1.0\n",
      "[1. 1. 1. 1.]\n",
      "Mean Recall Score(Training) :  1.0\n",
      "[1. 1. 1. 1.]\n",
      "Mean Precision Score(Training) :  1.0\n",
      "[1. 1. 1. 1.]\n",
      "Mean F1 Score(Training) :  1.0\n",
      "[0.9489986  0.9545878  0.95132743 0.94527247]\n",
      "Mean Accuracy Score(Testing) :  0.9500465766185375\n",
      "[0.984254   0.99303046 0.98864223 0.98734831]\n",
      "Mean recall Score(Testing) :  0.9883187498908625\n",
      "[0.96021153 0.95815691 0.95869837 0.95361596]\n",
      "Mean Precision Score(Testing) :  0.9576706945665657\n",
      "[0.97208413 0.97528204 0.97344008 0.97018901]\n",
      "Mean F1 Score(Testing) :  0.972748815991681\n"
     ]
    }
   ],
   "source": [
    "rf1_clf = RandomForestClassifier(n_estimators=1000 )\n",
    "\n",
    "cv = cross_validate(rf1_clf, X,Y,cv=4, scoring= {'f1' , 'accuracy' , 'recall' , 'precision'}, return_train_score = True)\n",
    "\n",
    "print (cv['train_accuracy'])\n",
    "print (\"Mean Accuracy(Training) : \" , cv['train_accuracy'].mean())\n",
    "\n",
    "print (cv['train_recall'])\n",
    "print (\"Mean Recall Score(Training) : \" ,cv['train_recall'].mean())\n",
    "\n",
    "print (cv['train_precision'])\n",
    "print (\"Mean Precision Score(Training) : \" ,cv['train_precision'].mean())\n",
    "\n",
    "print (cv['train_f1'])\n",
    "print (\"Mean F1 Score(Training) : \" ,cv['train_f1'].mean())\n",
    "\n",
    "print (cv['test_accuracy'])\n",
    "print (\"Mean Accuracy Score(Testing) : \" ,cv['test_accuracy'].mean())\n",
    "\n",
    "print (cv['test_recall'])\n",
    "print (\"Mean recall Score(Testing) : \" ,cv['test_recall'].mean())\n",
    "\n",
    "print (cv['test_precision'])\n",
    "print (\"Mean Precision Score(Testing) : \" , cv['test_precision'].mean())\n",
    "\n",
    "print (cv['test_f1'])\n",
    "print (\"Mean F1 Score(Testing) : \" ,cv['test_f1'].mean())"
   ]
  },
  {
   "cell_type": "code",
   "execution_count": 40,
   "metadata": {},
   "outputs": [
    {
     "name": "stdout",
     "output_type": "stream",
     "text": [
      "[[ 195  117]\n",
      " [  38 3086]]\n",
      "0.9755018176070808\n",
      "[[ 1369     0]\n",
      " [    0 12371]]\n",
      "1.0\n"
     ]
    }
   ],
   "source": [
    "rf_clf = RandomForestClassifier(n_estimators=1000)\n",
    "\n",
    "rf_clf.fit(X_train,y_train)\n",
    "\n",
    "pred = rf_clf.predict(X_test)\n",
    "\n",
    "print (confusion_matrix(y_test,pred))\n",
    "\n",
    "print (f1_score(y_test,pred))\n",
    "\n",
    "pred_1 = rf_clf.predict(X_train)\n",
    "\n",
    "print (confusion_matrix(y_train,pred_1))\n",
    "\n",
    "print (f1_score(y_train,pred_1))"
   ]
  },
  {
   "cell_type": "code",
   "execution_count": 41,
   "metadata": {},
   "outputs": [],
   "source": [
    "t_pred = rf_clf.predict(scale.transform(test))\n",
    "\n",
    "test_sub = pd.read_csv(\"../sample_submission.csv\")\n",
    "\n",
    "test_sub[\"prediction\"] = t_pred\n",
    "\n",
    "test_sub.to_csv(\"../rf_0614_null_values_filled_with_mean_added_distance_totfare_tottime_feature.csv\" , index=False)"
   ]
  },
  {
   "cell_type": "markdown",
   "metadata": {},
   "source": [
    "Manually checking the misclassified data samples"
   ]
  },
  {
   "cell_type": "code",
   "execution_count": null,
   "metadata": {},
   "outputs": [],
   "source": [
    "pred_cv = rf_clf.predict(X)\n",
    "\n",
    "data[\"pred\"] = pred_cv\n",
    "\n",
    "data1 = data[data[\"pred\"]!= data[\"label\"] ]\n",
    "\n",
    "data1\n"
   ]
  },
  {
   "cell_type": "code",
   "execution_count": null,
   "metadata": {},
   "outputs": [],
   "source": [
    "data1[\"label\"].value_counts()"
   ]
  },
  {
   "cell_type": "code",
   "execution_count": null,
   "metadata": {},
   "outputs": [],
   "source": [
    "data1.describe()"
   ]
  },
  {
   "cell_type": "markdown",
   "metadata": {},
   "source": [
    "# Gradient Boosting Classifier"
   ]
  },
  {
   "cell_type": "code",
   "execution_count": null,
   "metadata": {},
   "outputs": [],
   "source": [
    "gb_clf = GradientBoostingClassifier(n_estimators=1000 , max_depth=8, min_samples_split=2)\n",
    "\n",
    "gb_clf.fit(X_train,y_train)\n",
    "\n",
    "pred = gb_clf.predict(X_test)\n",
    "\n",
    "\n",
    "print (confusion_matrix(y_test,pred))\n",
    "\n",
    "print (f1_score(y_test,pred))\n",
    "\n",
    "pred_1 = gb_clf.predict(X_train)\n",
    "\n",
    "print (confusion_matrix(y_train,pred_1))\n",
    "\n",
    "print (f1_score(y_train,pred_1))"
   ]
  },
  {
   "cell_type": "markdown",
   "metadata": {},
   "source": [
    "# Logistic Regression Classifier"
   ]
  },
  {
   "cell_type": "code",
   "execution_count": null,
   "metadata": {},
   "outputs": [],
   "source": [
    "lr_clf = LogisticRegression()\n",
    "\n",
    "lr_clf.fit(X_train,y_train)\n",
    "\n",
    "pred = lr_clf.predict(X_test)\n",
    "\n",
    "print (confusion_matrix(y_test,pred))\n",
    "\n",
    "print (f1_score(y_test,pred))\n",
    "\n",
    "pred_1 = lr_clf.predict(X_train)\n",
    "\n",
    "print (confusion_matrix(y_train,pred_1))\n",
    "\n",
    "print (f1_score(y_train,pred_1))"
   ]
  },
  {
   "cell_type": "markdown",
   "metadata": {},
   "source": [
    "# Naive Bayes Classifier with Gaussian "
   ]
  },
  {
   "cell_type": "code",
   "execution_count": null,
   "metadata": {},
   "outputs": [],
   "source": [
    "gnb_clf = GaussianNB()\n",
    "\n",
    "gnb_clf.fit(X_train,y_train)\n",
    "\n",
    "pred = gnb_clf.predict(X_test)\n",
    "\n",
    "print (confusion_matrix(y_test,pred))\n",
    "\n",
    "print (f1_score(y_test,pred))\n",
    "\n",
    "pred = gnb_clf.predict(X_train)\n",
    "\n",
    "print (confusion_matrix(y_train,pred))\n",
    "\n",
    "print (f1_score(y_train,pred))\n"
   ]
  },
  {
   "cell_type": "markdown",
   "metadata": {},
   "source": [
    "# Classification with multi layer perseptron ( Neural Networks )"
   ]
  },
  {
   "cell_type": "code",
   "execution_count": null,
   "metadata": {},
   "outputs": [],
   "source": [
    "mlp_clf = MLPClassifier(activation='relu', solver='sgd' , verbose=True , early_stopping=False , tol= 10**-20)\n",
    "\n",
    "mlp_clf.fit(X_train,y_train)\n",
    "\n",
    "pred = mlp_clf.predict(X_test)\n",
    "\n",
    "\n",
    "print (confusion_matrix(y_test,pred))\n",
    "\n",
    "print (f1_score(y_test,pred))\n",
    "\n",
    "pred_1 = mlp_clf.predict(X_train)\n",
    "\n",
    "print (confusion_matrix(y_train,pred_1))\n",
    "\n",
    "print (f1_score(y_train,pred_1))"
   ]
  },
  {
   "cell_type": "markdown",
   "metadata": {},
   "source": [
    "# Cat boost classifier"
   ]
  },
  {
   "cell_type": "code",
   "execution_count": null,
   "metadata": {},
   "outputs": [],
   "source": [
    "cat_clas = CatBoostClassifier(loss_function = 'Logloss')\n",
    "#iterations=9000, depth=8, learning_rate=0.01, loss_function='Logloss')\n",
    "#cat_clas.fit(X_train, y_train)\n",
    "\n",
    "param_grid = {'learning_rate': [0.03, 0.1 , 0.01 ],\n",
    "            'depth': [4, 6, 10 , 15],\n",
    "            'l2_leaf_reg': [1, 3, 5, 7, 9],\n",
    "            'iterations' : [5000, 9000 , 13000 , 17000]}\n",
    "\n",
    "grid_search_result = cat_clas.grid_search(param_grid,\n",
    "            X_train,\n",
    "            y_train,\n",
    "            cv=4,\n",
    "            partition_random_seed=0,\n",
    "            calc_cv_statistics=True,\n",
    "            search_by_train_test_split=True,\n",
    "            refit=True,\n",
    "            shuffle=True,\n",
    "            stratified=True,\n",
    "            train_size=0.8,\n",
    "            verbose=True,\n",
    "            plot=True)"
   ]
  },
  {
   "cell_type": "code",
   "execution_count": null,
   "metadata": {},
   "outputs": [],
   "source": [
    "pred = cat_clas.predict(X_test)\n",
    "\n",
    "\n",
    "print (confusion_matrix(y_test,pred))\n",
    "\n",
    "print (f1_score(y_test,pred))\n",
    "\n",
    "pred_1 = cat_clas.predict(X_train)\n",
    "\n",
    "print (confusion_matrix(y_train,pred_1))\n",
    "\n",
    "print (f1_score(y_train,pred_1))"
   ]
  },
  {
   "cell_type": "code",
   "execution_count": null,
   "metadata": {},
   "outputs": [],
   "source": [
    "h2o.init()\n",
    "\n",
    "gbm_classifier = H2OGradientBoostingEstimator(distribution=\"multinomial\", ntrees=10, max_depth=3, min_rows=2, learn_rate=0.2)\n",
    "\n",
    "gbm_classifier.train(x=X_train , y=y_train)"
   ]
  }
 ],
 "metadata": {
  "kernelspec": {
   "display_name": "Python 3",
   "language": "python",
   "name": "python3"
  },
  "language_info": {
   "codemirror_mode": {
    "name": "ipython",
    "version": 3
   },
   "file_extension": ".py",
   "mimetype": "text/x-python",
   "name": "python",
   "nbconvert_exporter": "python",
   "pygments_lexer": "ipython3",
   "version": "3.6.9"
  }
 },
 "nbformat": 4,
 "nbformat_minor": 4
}
